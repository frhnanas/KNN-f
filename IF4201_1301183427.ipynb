{
  "nbformat": 4,
  "nbformat_minor": 0,
  "metadata": {
    "colab": {
      "name": "kNN_F",
      "provenance": [],
      "collapsed_sections": []
    },
    "kernelspec": {
      "name": "python3",
      "display_name": "Python 3"
    }
  },
  "cells": [
    {
      "cell_type": "code",
      "metadata": {
        "id": "KbZBApVBQknF"
      },
      "source": [
        "import pandas as pd\r\n",
        "import numpy as np\r\n",
        "from math import *"
      ],
      "execution_count": 507,
      "outputs": []
    },
    {
      "cell_type": "code",
      "metadata": {
        "id": "tyF4v3h_QwMh"
      },
      "source": [
        "def eucDistance(x1, x2):\r\n",
        "\tdist = 0.0\r\n",
        "\tfor i in range(len(x1)-1):\r\n",
        "\t\tdist += (x1[i] - x2[i])**2\r\n",
        "\treturn sqrt(dist)"
      ],
      "execution_count": 508,
      "outputs": []
    },
    {
      "cell_type": "code",
      "metadata": {
        "id": "9PDiN5qyU30D"
      },
      "source": [
        "def nearestNeighbors(train, test, k):\r\n",
        "\tlistDistances = list()\r\n",
        "\tfor train_row in train:\r\n",
        "\t\tdist = eucDistance(test, train_row)\r\n",
        "\t\tlistDistances.append((train_row, dist))\r\n",
        "\tlistDistances.sort(key=lambda tup: tup[1])\r\n",
        "\tneighbors = list()\r\n",
        "\tfor i in range(k):\r\n",
        "\t\tneighbors.append(listDistances[i][0])\r\n",
        "\treturn neighbors"
      ],
      "execution_count": 509,
      "outputs": []
    },
    {
      "cell_type": "code",
      "metadata": {
        "id": "MPdfFvRAWJDl"
      },
      "source": [
        "def predictClass(train, test, k):\r\n",
        "\tneighbors = nearestNeighbors(train, test, k)\r\n",
        "\toutput_values = [row[-1] for row in neighbors]\r\n",
        "\tprediction = max(set(output_values), key=output_values.count)\r\n",
        "\treturn prediction"
      ],
      "execution_count": 510,
      "outputs": []
    },
    {
      "cell_type": "code",
      "metadata": {
        "id": "Gxgu-Dz6Rz3l"
      },
      "source": [
        "def accuracy(actual, predicted):\r\n",
        "\tvalid = 0\r\n",
        "\tfor i in range(len(actual)):\r\n",
        "\t\tif actual[i] == predicted[i]:\r\n",
        "\t\t\tvalid += 1\r\n",
        "\treturn valid / len(actual) * 100.0"
      ],
      "execution_count": 511,
      "outputs": []
    },
    {
      "cell_type": "code",
      "metadata": {
        "id": "7lbGHWVXeRCD"
      },
      "source": [
        "def replaceZero(dataset):\r\n",
        "  colZero = ['Glucose', 'BloodPressure', 'SkinThickness', 'Insulin', 'BMI']\r\n",
        "  for column in colZero:\r\n",
        "    dataset[column] = dataset[column].replace(0, np.NaN)\r\n",
        "    mean = int(dataset[column].mean(skipna=True))\r\n",
        "    dataset[column] = dataset[column].replace(np.NaN, mean)\r\n",
        "  return dataset"
      ],
      "execution_count": 512,
      "outputs": []
    },
    {
      "cell_type": "code",
      "metadata": {
        "id": "SKoUEcRUhidy"
      },
      "source": [
        "def normalize(dataset):\r\n",
        "  dataset = (dataset - dataset.min()) / (dataset.max() - dataset.min())\r\n",
        "  return dataset"
      ],
      "execution_count": 513,
      "outputs": []
    },
    {
      "cell_type": "code",
      "metadata": {
        "id": "C7lNx01mbXKe"
      },
      "source": [
        "db = pd.read_csv('Diabetes.csv')\r\n",
        "db = replaceZero(db)\r\n",
        "db = normalize(db)"
      ],
      "execution_count": 514,
      "outputs": []
    },
    {
      "cell_type": "code",
      "metadata": {
        "id": "AoEMTunbvYQk"
      },
      "source": [
        "data1 = {\r\n",
        "    \"train\": db[:614],\r\n",
        "    \"test\": db[614:]\r\n",
        "    }\r\n",
        "train1 = [[float(a) for a in data1[\"train\"][\"Pregnancies\"]], [float(a) for a in data1[\"train\"][\"Glucose\"]],  [float(a) for a in data1[\"train\"][\"BloodPressure\"]],  [float(a) for a in data1[\"train\"][\"SkinThickness\"]],  [float(a) for a in data1[\"train\"][\"Insulin\"]],  [float(a) for a in data1[\"train\"][\"BMI\"]],  [float(a) for a in data1[\"train\"][\"DiabetesPedigreeFunction\"]],  [float(a) for a in data1[\"train\"][\"Age\"]],  [float(a) for a in data1[\"train\"][\"Outcome\"]]]\r\n",
        "\r\n",
        "data_train1 = []\r\n",
        "\r\n",
        "for i in range(len(data1[\"train\"][\"Pregnancies\"])):\r\n",
        "  data_train1.append([train1[0][i], train1[1][i], train1[2][i], train1[3][i], train1[4][i], train1[5][i], train1[6][i], train1[7][i], train1[8][i]])\r\n",
        "\r\n",
        "test1 = [[float(a) for a in data1[\"test\"][\"Pregnancies\"]], [float(a) for a in data1[\"test\"][\"Glucose\"]],  [float(a) for a in data1[\"test\"][\"BloodPressure\"]],  [float(a) for a in data1[\"test\"][\"SkinThickness\"]],  [float(a) for a in data1[\"test\"][\"Insulin\"]],  [float(a) for a in data1[\"test\"][\"BMI\"]],  [float(a) for a in data1[\"test\"][\"DiabetesPedigreeFunction\"]],  [float(a) for a in data1[\"test\"][\"Age\"]],  [float(a) for a in data1[\"test\"][\"Outcome\"]]]\r\n",
        "\r\n",
        "data_test1 = []\r\n",
        "\r\n",
        "for i in range(len(data1[\"test\"][\"Pregnancies\"])):\r\n",
        "    data_test1.append([test1[0][i], test1[1][i], test1[2][i], test1[0][i], test1[3][i], test1[4][i], test1[5][i], test1[6][i], test1[7][i]])\r\n",
        "fold1 = [data_train1, data_test1, [float(a) for a in data1[\"test\"][\"Outcome\"]]]"
      ],
      "execution_count": 515,
      "outputs": []
    },
    {
      "cell_type": "code",
      "metadata": {
        "id": "udj4S06hvamj"
      },
      "source": [
        "data2 = {\r\n",
        "    \"train\": pd.concat([db[:461], db[615:]]),\r\n",
        "    \"test\": db[461:615]\r\n",
        "}\r\n",
        "train2 = [[float(a) for a in data2[\"train\"][\"Pregnancies\"]], [float(a) for a in data2[\"train\"][\"Glucose\"]],  [float(a) for a in data2[\"train\"][\"BloodPressure\"]],  [float(a) for a in data2[\"train\"][\"SkinThickness\"]],  [float(a) for a in data2[\"train\"][\"Insulin\"]],  [float(a) for a in data2[\"train\"][\"BMI\"]],  [float(a) for a in data2[\"train\"][\"DiabetesPedigreeFunction\"]],  [float(a) for a in data2[\"train\"][\"Age\"]],  [float(a) for a in data2[\"train\"][\"Outcome\"]]]\r\n",
        "\r\n",
        "data_train2 = []\r\n",
        "\r\n",
        "for i in range(len(data2[\"train\"][\"Pregnancies\"])):\r\n",
        "  data_train2.append([train2[0][i], train2[1][i], train2[2][i], train2[3][i], train2[4][i], train2[5][i], train2[6][i], train2[7][i], train2[8][i]])\r\n",
        "\r\n",
        "test2 = [[float(a) for a in data2[\"test\"][\"Pregnancies\"]], [float(a) for a in data2[\"test\"][\"Glucose\"]],  [float(a) for a in data2[\"test\"][\"BloodPressure\"]],  [float(a) for a in data2[\"test\"][\"SkinThickness\"]],  [float(a) for a in data2[\"test\"][\"Insulin\"]],  [float(a) for a in data2[\"test\"][\"BMI\"]],  [float(a) for a in data2[\"test\"][\"DiabetesPedigreeFunction\"]],  [float(a) for a in data2[\"test\"][\"Age\"]],  [float(a) for a in data2[\"test\"][\"Outcome\"]]]\r\n",
        "\r\n",
        "data_test2 = []\r\n",
        "\r\n",
        "for i in range(len(data2[\"test\"][\"Pregnancies\"])):\r\n",
        "    data_test2.append([test2[0][i], test2[1][i], test2[2][i], test2[0][i], test2[3][i], test2[4][i], test2[5][i], test2[6][i], test2[7][i]])\r\n",
        "fold2 = [data_train2, data_test2, [float(a) for a in data2[\"test\"][\"Outcome\"]]]"
      ],
      "execution_count": 516,
      "outputs": []
    },
    {
      "cell_type": "code",
      "metadata": {
        "id": "D40O9r6qvbnk"
      },
      "source": [
        "data3 = {\r\n",
        "    \"train\": pd.concat([db[:308], db[462:]]),\r\n",
        "    \"test\": db[308:462]\r\n",
        "}\r\n",
        "train3 = [[float(a) for a in data3[\"train\"][\"Pregnancies\"]], [float(a) for a in data3[\"train\"][\"Glucose\"]],  [float(a) for a in data3[\"train\"][\"BloodPressure\"]],  [float(a) for a in data3[\"train\"][\"SkinThickness\"]],  [float(a) for a in data3[\"train\"][\"Insulin\"]],  [float(a) for a in data3[\"train\"][\"BMI\"]],  [float(a) for a in data3[\"train\"][\"DiabetesPedigreeFunction\"]],  [float(a) for a in data3[\"train\"][\"Age\"]],  [float(a) for a in data3[\"train\"][\"Outcome\"]]]\r\n",
        "\r\n",
        "data_train3 = []\r\n",
        "\r\n",
        "for i in range(len(data3[\"train\"][\"Pregnancies\"])):\r\n",
        "  data_train3.append([train3[0][i], train3[1][i], train3[2][i], train3[3][i], train3[4][i], train3[5][i], train3[6][i], train3[7][i], train3[8][i]])\r\n",
        "\r\n",
        "test3 = [[float(a) for a in data3[\"test\"][\"Pregnancies\"]], [float(a) for a in data3[\"test\"][\"Glucose\"]],  [float(a) for a in data3[\"test\"][\"BloodPressure\"]],  [float(a) for a in data3[\"test\"][\"SkinThickness\"]],  [float(a) for a in data3[\"test\"][\"Insulin\"]],  [float(a) for a in data3[\"test\"][\"BMI\"]],  [float(a) for a in data3[\"test\"][\"DiabetesPedigreeFunction\"]],  [float(a) for a in data3[\"test\"][\"Age\"]],  [float(a) for a in data3[\"test\"][\"Outcome\"]]]\r\n",
        "\r\n",
        "data_test3 = []\r\n",
        "\r\n",
        "for i in range(len(data3[\"test\"][\"Pregnancies\"])):\r\n",
        "    data_test3.append([test3[0][i], test3[1][i], test3[2][i], test3[0][i], test3[3][i], test3[4][i], test3[5][i], test3[6][i], test3[7][i]])\r\n",
        "fold3 = [data_train3, data_test3, [float(a) for a in data3[\"test\"][\"Outcome\"]]]"
      ],
      "execution_count": 517,
      "outputs": []
    },
    {
      "cell_type": "code",
      "metadata": {
        "id": "NKQoaF0Svc3-"
      },
      "source": [
        "data4 = {\r\n",
        "    \"train\": pd.concat([db[:154], db[308:]]),\r\n",
        "    \"test\": db[154:308]\r\n",
        "}\r\n",
        "train4 = [[float(a) for a in data4[\"train\"][\"Pregnancies\"]], [float(a) for a in data4[\"train\"][\"Glucose\"]],  [float(a) for a in data4[\"train\"][\"BloodPressure\"]],  [float(a) for a in data4[\"train\"][\"SkinThickness\"]],  [float(a) for a in data4[\"train\"][\"Insulin\"]],  [float(a) for a in data4[\"train\"][\"BMI\"]],  [float(a) for a in data4[\"train\"][\"DiabetesPedigreeFunction\"]],  [float(a) for a in data4[\"train\"][\"Age\"]],  [float(a) for a in data4[\"train\"][\"Outcome\"]]]\r\n",
        "\r\n",
        "data_train4 = []\r\n",
        "\r\n",
        "for i in range(len(data4[\"train\"][\"Pregnancies\"])):\r\n",
        "  data_train4.append([train4[0][i], train4[1][i], train4[2][i], train4[3][i], train4[4][i], train4[5][i], train4[6][i], train4[7][i], train4[8][i]])\r\n",
        "\r\n",
        "test4 = [[float(a) for a in data4[\"test\"][\"Pregnancies\"]], [float(a) for a in data4[\"test\"][\"Glucose\"]],  [float(a) for a in data4[\"test\"][\"BloodPressure\"]],  [float(a) for a in data4[\"test\"][\"SkinThickness\"]],  [float(a) for a in data4[\"test\"][\"Insulin\"]],  [float(a) for a in data4[\"test\"][\"BMI\"]],  [float(a) for a in data4[\"test\"][\"DiabetesPedigreeFunction\"]],  [float(a) for a in data4[\"test\"][\"Age\"]],  [float(a) for a in data4[\"test\"][\"Outcome\"]]]\r\n",
        "\r\n",
        "data_test4 = []\r\n",
        "\r\n",
        "for i in range(len(data4[\"test\"][\"Pregnancies\"])):\r\n",
        "    data_test4.append([test4[0][i], test4[1][i], test4[2][i], test4[0][i], test4[3][i], test4[4][i], test4[5][i], test4[6][i], test4[7][i]])\r\n",
        "fold4 = [data_train4, data_test4, [float(a) for a in data4[\"test\"][\"Outcome\"]]]"
      ],
      "execution_count": 518,
      "outputs": []
    },
    {
      "cell_type": "code",
      "metadata": {
        "id": "G4cjOctsveKl"
      },
      "source": [
        "data5 = {\r\n",
        "    \"train\": db[154:],\r\n",
        "    \"test\": db[:154]\r\n",
        "}\r\n",
        "train5 = [[float(a) for a in data5[\"train\"][\"Pregnancies\"]], [float(a) for a in data5[\"train\"][\"Glucose\"]],  [float(a) for a in data5[\"train\"][\"BloodPressure\"]],  [float(a) for a in data5[\"train\"][\"SkinThickness\"]],  [float(a) for a in data5[\"train\"][\"Insulin\"]],  [float(a) for a in data5[\"train\"][\"BMI\"]],  [float(a) for a in data5[\"train\"][\"DiabetesPedigreeFunction\"]],  [float(a) for a in data5[\"train\"][\"Age\"]],  [float(a) for a in data5[\"train\"][\"Outcome\"]]]\r\n",
        "\r\n",
        "data_train5 = []\r\n",
        "\r\n",
        "for i in range(len(data5[\"train\"][\"Pregnancies\"])):\r\n",
        "  data_train5.append([train5[0][i], train5[1][i], train5[2][i], train5[3][i], train5[4][i], train5[5][i], train5[6][i], train5[7][i], train5[8][i]])\r\n",
        "\r\n",
        "test5 = [[float(a) for a in data5[\"test\"][\"Pregnancies\"]], [float(a) for a in data5[\"test\"][\"Glucose\"]],  [float(a) for a in data5[\"test\"][\"BloodPressure\"]],  [float(a) for a in data5[\"test\"][\"SkinThickness\"]],  [float(a) for a in data5[\"test\"][\"Insulin\"]],  [float(a) for a in data5[\"test\"][\"BMI\"]],  [float(a) for a in data5[\"test\"][\"DiabetesPedigreeFunction\"]],  [float(a) for a in data5[\"test\"][\"Age\"]],  [float(a) for a in data5[\"test\"][\"Outcome\"]]]\r\n",
        "\r\n",
        "data_test5 = []\r\n",
        "\r\n",
        "for i in range(len(data5[\"test\"][\"Pregnancies\"])):\r\n",
        "    data_test5.append([test5[0][i], test5[1][i], test5[2][i], test5[0][i], test5[3][i], test5[4][i], test5[5][i], test5[6][i], test5[7][i]])\r\n",
        "fold5 = [data_train5, data_test5, [float(a) for a in data5[\"test\"][\"Outcome\"]]]"
      ],
      "execution_count": 519,
      "outputs": []
    },
    {
      "cell_type": "code",
      "metadata": {
        "id": "VyTDsN7fvbpa"
      },
      "source": [
        "semua_fold = [fold1, fold2, fold3, fold4, fold5]"
      ],
      "execution_count": 520,
      "outputs": []
    },
    {
      "cell_type": "code",
      "metadata": {
        "colab": {
          "base_uri": "https://localhost:8080/"
        },
        "id": "eLYUopbyt8r3",
        "outputId": "2e8d39dd-0ea5-4671-e988-aecb5111efe3"
      },
      "source": [
        "dict_K = {}\r\n",
        "for K in range(1,51):\r\n",
        "  total_accuracy = []\r\n",
        "  for i in range(len(semua_fold)):\r\n",
        "    list_predict = []\r\n",
        "    for j in range(len(semua_fold[i][1])):\r\n",
        "      results = predictClass(semua_fold[i][0], semua_fold[i][1][j], K)\r\n",
        "      list_predict.append(results)\r\n",
        "    total_accuracy.append(accuracy(semua_fold[i][2], list_predict))\r\n",
        "  avg_accuracy = sum(total_accuracy) / len(semua_fold)\r\n",
        "  dict_K[K] = avg_accuracy\r\n",
        "best_K = max(dict_K, key = lambda k : dict_K.get(k))\r\n",
        "print(\"best K : \",best_K)\r\n",
        "print(\"accuracy : \",dict_K[best_K])"
      ],
      "execution_count": 521,
      "outputs": [
        {
          "output_type": "stream",
          "text": [
            "best K :  23\n",
            "accuracy :  76.62337662337663\n"
          ],
          "name": "stdout"
        }
      ]
    }
  ]
}